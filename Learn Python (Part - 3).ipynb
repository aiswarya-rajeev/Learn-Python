{
 "cells": [
  {
   "cell_type": "markdown",
   "metadata": {},
   "source": [
    "# Dictionaries"
   ]
  },
  {
   "cell_type": "markdown",
   "metadata": {},
   "source": [
    "Special structure in Python which allows us to store information as key-value pairs"
   ]
  },
  {
   "cell_type": "code",
   "execution_count": 1,
   "metadata": {},
   "outputs": [
    {
     "name": "stdout",
     "output_type": "stream",
     "text": [
      "November\n"
     ]
    }
   ],
   "source": [
    "monthConversions = {\"Jan\":\"January\",\n",
    "                    \"Feb\":\"February\",\n",
    "                    \"Mar\":\"March\",\n",
    "                    \"Apr\":\"April\",\n",
    "                    \"May\":\"May\",\n",
    "                    \"Jun\":\"June\",\n",
    "                    \"Jul\":\"July\",\n",
    "                    \"Aug\":\"August\",\n",
    "                    \"Sep\":\"September\",\n",
    "                    \"Oct\":\"October\",\n",
    "                    \"Nov\":\"November\",\n",
    "                    \"Dec\":\"December\"}\n",
    "\n",
    "print(monthConversions[\"Nov\"])"
   ]
  },
  {
   "cell_type": "code",
   "execution_count": 2,
   "metadata": {},
   "outputs": [
    {
     "name": "stdout",
     "output_type": "stream",
     "text": [
      "November\n"
     ]
    }
   ],
   "source": [
    "#Using get\n",
    "monthConversions = {\"Jan\":\"January\",\n",
    "                    \"Feb\":\"February\",\n",
    "                    \"Mar\":\"March\",\n",
    "                    \"Apr\":\"April\",\n",
    "                    \"May\":\"May\",\n",
    "                    \"Jun\":\"June\",\n",
    "                    \"Jul\":\"July\",\n",
    "                    \"Aug\":\"August\",\n",
    "                    \"Sep\":\"September\",\n",
    "                    \"Oct\":\"October\",\n",
    "                    \"Nov\":\"November\",\n",
    "                    \"Dec\":\"December\"}\n",
    "\n",
    "print(monthConversions.get(\"Nov\"))"
   ]
  },
  {
   "cell_type": "code",
   "execution_count": 3,
   "metadata": {},
   "outputs": [
    {
     "name": "stdout",
     "output_type": "stream",
     "text": [
      "None\n"
     ]
    }
   ],
   "source": [
    "#If we enter an invalid key\n",
    "monthConversions = {\"Jan\":\"January\",\n",
    "                    \"Feb\":\"February\",\n",
    "                    \"Mar\":\"March\",\n",
    "                    \"Apr\":\"April\",\n",
    "                    \"May\":\"May\",\n",
    "                    \"Jun\":\"June\",\n",
    "                    \"Jul\":\"July\",\n",
    "                    \"Aug\":\"August\",\n",
    "                    \"Sep\":\"September\",\n",
    "                    \"Oct\":\"October\",\n",
    "                    \"Nov\":\"November\",\n",
    "                    \"Dec\":\"December\"}\n",
    "\n",
    "print(monthConversions.get(\"Lov\"))"
   ]
  },
  {
   "cell_type": "code",
   "execution_count": 4,
   "metadata": {},
   "outputs": [
    {
     "name": "stdout",
     "output_type": "stream",
     "text": [
      "Not a valid Key\n"
     ]
    }
   ],
   "source": [
    "#To get a default value\n",
    "#If we enter an invalid key\n",
    "monthConversions = {\"Jan\":\"January\",\n",
    "                    \"Feb\":\"February\",\n",
    "                    \"Mar\":\"March\",\n",
    "                    \"Apr\":\"April\",\n",
    "                    \"May\":\"May\",\n",
    "                    \"Jun\":\"June\",\n",
    "                    \"Jul\":\"July\",\n",
    "                    \"Aug\":\"August\",\n",
    "                    \"Sep\":\"September\",\n",
    "                    \"Oct\":\"October\",\n",
    "                    \"Nov\":\"November\",\n",
    "                    \"Dec\":\"December\"}\n",
    "\n",
    "print(monthConversions.get(\"Lov\",\"Not a valid Key\"))"
   ]
  },
  {
   "cell_type": "code",
   "execution_count": 5,
   "metadata": {},
   "outputs": [
    {
     "name": "stdout",
     "output_type": "stream",
     "text": [
      "July\n"
     ]
    }
   ],
   "source": [
    "#The keys don't have to strings. They can be numbers\n",
    "#To get a default value\n",
    "#If we enter an invalid key\n",
    "monthConversions = {0:\"January\",\n",
    "                    1:\"February\",\n",
    "                    2:\"March\",\n",
    "                    3:\"April\",\n",
    "                    4:\"May\",\n",
    "                    5:\"June\",\n",
    "                    6:\"July\",\n",
    "                    7:\"August\",\n",
    "                    8:\"September\",\n",
    "                    9:\"October\",\n",
    "                    10:\"November\",\n",
    "                    11:\"December\"}\n",
    "\n",
    "print(monthConversions.get(6))"
   ]
  },
  {
   "cell_type": "markdown",
   "metadata": {},
   "source": [
    "# While Loop"
   ]
  },
  {
   "cell_type": "markdown",
   "metadata": {},
   "source": [
    "While Loop is a structure in python program which allows us to execute a block of code multiple times"
   ]
  },
  {
   "cell_type": "code",
   "execution_count": 6,
   "metadata": {},
   "outputs": [
    {
     "name": "stdout",
     "output_type": "stream",
     "text": [
      "1\n",
      "2\n",
      "3\n",
      "4\n",
      "5\n",
      "6\n",
      "7\n",
      "8\n",
      "9\n",
      "10\n",
      "Done with loop\n"
     ]
    }
   ],
   "source": [
    "i = 1\n",
    "while i <= 10:\n",
    "    print(i)\n",
    "    i += 1   \n",
    "print(\"Done with loop\")"
   ]
  },
  {
   "cell_type": "markdown",
   "metadata": {},
   "source": [
    "# Building a Guessing Game"
   ]
  },
  {
   "cell_type": "code",
   "execution_count": 7,
   "metadata": {},
   "outputs": [
    {
     "name": "stdout",
     "output_type": "stream",
     "text": [
      "Enter guess: GHFHG\n",
      "Enter guess: BGC\n",
      "Enter guess: giraffe\n",
      "You Win!\n"
     ]
    }
   ],
   "source": [
    "secret_word = \"giraffe\"\n",
    "guess = \"\"\n",
    "guess_count = 0\n",
    "guess_limit = 3\n",
    "out_of_guesses = False\n",
    "while guess != secret_word and not(out_of_guesses):\n",
    "    if guess_count < guess_limit:\n",
    "        guess = input(\"Enter guess: \")\n",
    "        guess_count += 1\n",
    "    else:\n",
    "        out_of_guesses = True\n",
    "if out_of_guesses:\n",
    "    print(\"Out of Guesses, YOU LOSE!\")\n",
    "else:\n",
    "    print(\"You Win!\")"
   ]
  },
  {
   "cell_type": "markdown",
   "metadata": {},
   "source": [
    "# For Loop"
   ]
  },
  {
   "cell_type": "markdown",
   "metadata": {},
   "source": [
    "For loop is a special type of loop in python which allows\n",
    "us to loop over a different collections of items. \n",
    "So a lot of times will use for loops in python to like loop\n",
    "through different arrays or we can loop over like the \n",
    "letters inside of a string or we could just loop through \n",
    "like a series of numbers.\n",
    "So for loops provide a very specific purpose."
   ]
  },
  {
   "cell_type": "code",
   "execution_count": 8,
   "metadata": {},
   "outputs": [
    {
     "name": "stdout",
     "output_type": "stream",
     "text": [
      "G\n",
      "i\n",
      "r\n",
      "a\n",
      "f\n",
      "f\n",
      "e\n",
      " \n",
      "A\n",
      "c\n",
      "a\n",
      "d\n",
      "e\n",
      "m\n",
      "y\n"
     ]
    }
   ],
   "source": [
    "for letter in \"Giraffe Academy\":\n",
    "    print(letter)"
   ]
  },
  {
   "cell_type": "code",
   "execution_count": 9,
   "metadata": {},
   "outputs": [
    {
     "name": "stdout",
     "output_type": "stream",
     "text": [
      "Jim\n",
      "Karen\n",
      "Kevin\n"
     ]
    }
   ],
   "source": [
    "friends = [\"Jim\",\"Karen\",\"Kevin\"]\n",
    "for friend in friends:\n",
    "    print(friend)"
   ]
  },
  {
   "cell_type": "code",
   "execution_count": 10,
   "metadata": {},
   "outputs": [
    {
     "name": "stdout",
     "output_type": "stream",
     "text": [
      "0\n",
      "1\n",
      "2\n",
      "3\n",
      "4\n",
      "5\n",
      "6\n",
      "7\n",
      "8\n",
      "9\n"
     ]
    }
   ],
   "source": [
    "#To print 0 to 10, excluding 10\n",
    "for index in range(10):\n",
    "    print(index)"
   ]
  },
  {
   "cell_type": "code",
   "execution_count": 11,
   "metadata": {},
   "outputs": [
    {
     "name": "stdout",
     "output_type": "stream",
     "text": [
      "3\n",
      "4\n",
      "5\n",
      "6\n",
      "7\n",
      "8\n",
      "9\n"
     ]
    }
   ],
   "source": [
    "#To print 3 to 10, excluding 10\n",
    "for index in range(3,10):\n",
    "    print(index)"
   ]
  },
  {
   "cell_type": "code",
   "execution_count": 12,
   "metadata": {},
   "outputs": [
    {
     "name": "stdout",
     "output_type": "stream",
     "text": [
      "Jim\n",
      "Karen\n",
      "Kevin\n"
     ]
    }
   ],
   "source": [
    "friends = [\"Jim\",\"Karen\",\"Kevin\"]\n",
    "for index in range(len(friends)):\n",
    "    print(friends[index])"
   ]
  },
  {
   "cell_type": "code",
   "execution_count": 13,
   "metadata": {},
   "outputs": [
    {
     "name": "stdout",
     "output_type": "stream",
     "text": [
      "First Iteration\n",
      "Not First\n",
      "Not First\n",
      "Not First\n",
      "Not First\n"
     ]
    }
   ],
   "source": [
    "for index in range(5):\n",
    "    if index == 0:\n",
    "        print(\"First Iteration\")\n",
    "    else:\n",
    "        print(\"Not First\")"
   ]
  },
  {
   "cell_type": "markdown",
   "metadata": {},
   "source": [
    "# Exponent Functions"
   ]
  },
  {
   "cell_type": "code",
   "execution_count": 14,
   "metadata": {},
   "outputs": [
    {
     "name": "stdout",
     "output_type": "stream",
     "text": [
      "8\n"
     ]
    }
   ],
   "source": [
    "print(2**3)"
   ]
  },
  {
   "cell_type": "code",
   "execution_count": 15,
   "metadata": {},
   "outputs": [
    {
     "name": "stdout",
     "output_type": "stream",
     "text": [
      "81\n"
     ]
    }
   ],
   "source": [
    "def raise_to_power(base_num,pow_num):\n",
    "    result = 1\n",
    "    for index in range(pow_num):\n",
    "        result = result * base_num\n",
    "    return result\n",
    "print(raise_to_power(3,4))"
   ]
  },
  {
   "cell_type": "markdown",
   "metadata": {},
   "source": [
    "# 2D Lists & Nested Loops"
   ]
  },
  {
   "cell_type": "code",
   "execution_count": 16,
   "metadata": {},
   "outputs": [
    {
     "name": "stdout",
     "output_type": "stream",
     "text": [
      "8\n"
     ]
    }
   ],
   "source": [
    "number_grid = [[1,2,3],\n",
    "               [4,5,6],\n",
    "               [7,8,9],\n",
    "               [0]]\n",
    "print(number_grid[2][1])\n",
    "#first index - row, second index - index position(column)"
   ]
  },
  {
   "cell_type": "code",
   "execution_count": 17,
   "metadata": {},
   "outputs": [
    {
     "name": "stdout",
     "output_type": "stream",
     "text": [
      "1\n",
      "2\n",
      "3\n",
      "4\n",
      "5\n",
      "6\n",
      "7\n",
      "8\n",
      "9\n",
      "0\n"
     ]
    }
   ],
   "source": [
    "number_grid = [[1,2,3],\n",
    "               [4,5,6],\n",
    "               [7,8,9],\n",
    "               [0]]\n",
    "#Using nested loop to access the elements\n",
    "for row in number_grid:\n",
    "    for col in row:\n",
    "        print(col)"
   ]
  },
  {
   "cell_type": "markdown",
   "metadata": {},
   "source": [
    "# Building A Translator"
   ]
  },
  {
   "cell_type": "markdown",
   "metadata": {},
   "source": [
    "Build a translator which translates the vowels in the given word to g.\n",
    "\n",
    "ex: \n",
    "1. dog -> dgg\n",
    "2. cat -> cgt"
   ]
  },
  {
   "cell_type": "code",
   "execution_count": 18,
   "metadata": {},
   "outputs": [
    {
     "name": "stdout",
     "output_type": "stream",
     "text": [
      "Enter a phrase: PODCASTS\n",
      "PgDCgSTS\n"
     ]
    }
   ],
   "source": [
    "def translate(phrase):\n",
    "    translation = \"\"\n",
    "    for letter in phrase:\n",
    "        if letter in \"AEIOUaeiou\":\n",
    "            translation = translation + \"g\"\n",
    "        else:\n",
    "            translation = translation + letter\n",
    "    return translation\n",
    "print(translate(input(\"Enter a phrase: \")))"
   ]
  },
  {
   "cell_type": "code",
   "execution_count": 19,
   "metadata": {},
   "outputs": [
    {
     "name": "stdout",
     "output_type": "stream",
     "text": [
      "Enter a phrase: PODCASTS\n",
      "PGDCGSTS\n"
     ]
    }
   ],
   "source": [
    "def translate(phrase):\n",
    "    translation = \"\"\n",
    "    for letter in phrase:\n",
    "        if letter.lower() in \"aeiou\":\n",
    "            if letter.isupper():\n",
    "                translation = translation + \"G\"\n",
    "            else:\n",
    "                translation = translation + \"g\"\n",
    "        else:\n",
    "            translation = translation + letter\n",
    "    return translation\n",
    "print(translate(input(\"Enter a phrase: \")))"
   ]
  },
  {
   "cell_type": "markdown",
   "metadata": {},
   "source": [
    "# Comments"
   ]
  },
  {
   "cell_type": "code",
   "execution_count": 20,
   "metadata": {},
   "outputs": [
    {
     "name": "stdout",
     "output_type": "stream",
     "text": [
      "Comments are fun\n"
     ]
    }
   ],
   "source": [
    "print(\"Comments are fun\")"
   ]
  },
  {
   "cell_type": "code",
   "execution_count": 21,
   "metadata": {},
   "outputs": [],
   "source": [
    "#This program is cool"
   ]
  },
  {
   "cell_type": "code",
   "execution_count": 22,
   "metadata": {},
   "outputs": [
    {
     "name": "stdout",
     "output_type": "stream",
     "text": [
      "Comments are fun\n"
     ]
    }
   ],
   "source": [
    "#This prints out a string\n",
    "print(\"Comments are fun\")"
   ]
  },
  {
   "cell_type": "code",
   "execution_count": 23,
   "metadata": {},
   "outputs": [
    {
     "data": {
      "text/plain": [
       "'Multiple line comments'"
      ]
     },
     "execution_count": 23,
     "metadata": {},
     "output_type": "execute_result"
    }
   ],
   "source": [
    "'''Multiple line comments'''"
   ]
  },
  {
   "cell_type": "code",
   "execution_count": 24,
   "metadata": {},
   "outputs": [],
   "source": [
    "#print(\"Comments are fun\")"
   ]
  },
  {
   "cell_type": "markdown",
   "metadata": {},
   "source": [
    "# Try Except"
   ]
  },
  {
   "cell_type": "markdown",
   "metadata": {},
   "source": [
    "We use Try Except to avoid the errors in the programming"
   ]
  },
  {
   "cell_type": "code",
   "execution_count": 25,
   "metadata": {},
   "outputs": [
    {
     "name": "stdout",
     "output_type": "stream",
     "text": [
      "Enter a number: 8\n",
      "8\n"
     ]
    }
   ],
   "source": [
    "number = int(input(\"Enter a number: \"))\n",
    "print(number)"
   ]
  },
  {
   "cell_type": "code",
   "execution_count": 26,
   "metadata": {},
   "outputs": [],
   "source": [
    "#If we enter the input other than a number, it will make error.\n",
    "#It will show as ValueError"
   ]
  },
  {
   "cell_type": "markdown",
   "metadata": {},
   "source": [
    "In order to avoid these types of errors, we use try except"
   ]
  },
  {
   "cell_type": "code",
   "execution_count": 27,
   "metadata": {},
   "outputs": [
    {
     "name": "stdout",
     "output_type": "stream",
     "text": [
      "Enter a number: VVJV\n",
      "Invalid Input\n"
     ]
    }
   ],
   "source": [
    "try:\n",
    "    number = int(input(\"Enter a number: \"))\n",
    "    print(number)\n",
    "except:\n",
    "    print(\"Invalid Input\")"
   ]
  },
  {
   "cell_type": "code",
   "execution_count": 28,
   "metadata": {},
   "outputs": [],
   "source": [
    "# value = 10/0\n",
    "#This will cause ZeroDivisionError"
   ]
  },
  {
   "cell_type": "code",
   "execution_count": 29,
   "metadata": {},
   "outputs": [
    {
     "name": "stdout",
     "output_type": "stream",
     "text": [
      "Invalid Input\n"
     ]
    }
   ],
   "source": [
    "try:\n",
    "    Value = 10/0\n",
    "except:\n",
    "    print(\"Invalid Input\")"
   ]
  },
  {
   "cell_type": "code",
   "execution_count": 30,
   "metadata": {},
   "outputs": [],
   "source": [
    "#To specify the type of error"
   ]
  },
  {
   "cell_type": "code",
   "execution_count": 31,
   "metadata": {},
   "outputs": [
    {
     "name": "stdout",
     "output_type": "stream",
     "text": [
      "Divided by zero\n"
     ]
    }
   ],
   "source": [
    "try:\n",
    "    Value = 10/0\n",
    "    number = int(input(\"Enter a number: \"))\n",
    "    print(number)\n",
    "except ZeroDivisionError:\n",
    "    print(\"Divided by zero\")\n",
    "except ValueError:\n",
    "    print(\"Invalid Input\")"
   ]
  },
  {
   "cell_type": "code",
   "execution_count": 32,
   "metadata": {},
   "outputs": [
    {
     "name": "stdout",
     "output_type": "stream",
     "text": [
      "Enter a number: HJHG\n",
      "Invalid Input\n"
     ]
    }
   ],
   "source": [
    "try:\n",
    "    number = int(input(\"Enter a number: \"))\n",
    "    print(number)\n",
    "except ZeroDivisionError:\n",
    "    print(\"Divided by zero\")\n",
    "except ValueError:\n",
    "    print(\"Invalid Input\")"
   ]
  },
  {
   "cell_type": "code",
   "execution_count": 33,
   "metadata": {},
   "outputs": [
    {
     "name": "stdout",
     "output_type": "stream",
     "text": [
      "err\n"
     ]
    }
   ],
   "source": [
    "#Storing error as a variable\n",
    "try:\n",
    "    answer = 10/0\n",
    "    number = int(input(\"Enter a number: \"))\n",
    "    print(number)\n",
    "except ZeroDivisionError as err:\n",
    "    print(\"err\")\n",
    "except ValueError:\n",
    "    print(\"Invalid Input\")"
   ]
  }
 ],
 "metadata": {
  "kernelspec": {
   "display_name": "Python 3",
   "language": "python",
   "name": "python3"
  },
  "language_info": {
   "codemirror_mode": {
    "name": "ipython",
    "version": 3
   },
   "file_extension": ".py",
   "mimetype": "text/x-python",
   "name": "python",
   "nbconvert_exporter": "python",
   "pygments_lexer": "ipython3",
   "version": "3.7.4"
  }
 },
 "nbformat": 4,
 "nbformat_minor": 2
}
